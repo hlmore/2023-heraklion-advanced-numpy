{
 "cells": [
  {
   "cell_type": "markdown",
   "id": "d03d2b5c",
   "metadata": {
    "slideshow": {
     "slide_type": "slide"
    }
   },
   "source": [
    "# Part 1: Fancy indexing, views and copies and sorting"
   ]
  },
  {
   "cell_type": "code",
   "execution_count": 154,
   "id": "be894dd2",
   "metadata": {
    "slideshow": {
     "slide_type": "skip"
    }
   },
   "outputs": [],
   "source": [
    "import numpy as np"
   ]
  },
  {
   "cell_type": "markdown",
   "id": "4539d807",
   "metadata": {
    "slideshow": {
     "slide_type": "slide"
    }
   },
   "source": [
    "# 1.1. Fancy indexing\n",
    "\n",
    "You know already how to access single items in an array and how to slice an array. \n",
    "For example for the following array ```a```\n"
   ]
  },
  {
   "cell_type": "code",
   "execution_count": 155,
   "id": "80e7b446",
   "metadata": {
    "slideshow": {
     "slide_type": "fragment"
    }
   },
   "outputs": [
    {
     "name": "stdout",
     "output_type": "stream",
     "text": [
      "[[ 0  1  2]\n",
      " [ 3  4  5]\n",
      " [ 6  7  8]\n",
      " [ 9 10 11]]\n"
     ]
    }
   ],
   "source": [
    "a = np.arange(12).reshape((4,3))\n",
    "print(a)"
   ]
  },
  {
   "cell_type": "code",
   "execution_count": 156,
   "id": "1ffefa1b",
   "metadata": {
    "slideshow": {
     "slide_type": "fragment"
    }
   },
   "outputs": [],
   "source": [
    "# to get a single element you would do...\n",
    "\n",
    "# to get a *slice* of the array you could do...\n"
   ]
  },
  {
   "cell_type": "markdown",
   "id": "0564bc33",
   "metadata": {
    "slideshow": {
     "slide_type": "fragment"
    }
   },
   "source": [
    "There is another way of indexing: when you pass multiple lists. \n",
    "They are interpreted as **coordinates to look up**. This is *fancy-indexing*."
   ]
  },
  {
   "cell_type": "code",
   "execution_count": 157,
   "id": "5ec6d906",
   "metadata": {
    "slideshow": {
     "slide_type": "fragment"
    }
   },
   "outputs": [],
   "source": [
    "# I want two elements: first row, second column, and  second row, third column\n",
    "\n"
   ]
  },
  {
   "cell_type": "markdown",
   "id": "a9c2b8b6",
   "metadata": {
    "slideshow": {
     "slide_type": "slide"
    }
   },
   "source": [
    "Another example"
   ]
  },
  {
   "cell_type": "code",
   "execution_count": 158,
   "id": "7f355557",
   "metadata": {
    "slideshow": {
     "slide_type": "fragment"
    }
   },
   "outputs": [
    {
     "data": {
      "text/plain": [
       "array([['A', 'B', 'C', 'D', 'E', 'F'],\n",
       "       ['G', 'H', 'I', 'J', 'K', 'L'],\n",
       "       ['M', 'N', 'O', 'P', 'Q', 'R'],\n",
       "       ['S', 'T', 'U', 'V', 'W', 'X'],\n",
       "       ['Y', 'Z', '1', '2', '3', '4']], dtype='<U1')"
      ]
     },
     "execution_count": 158,
     "metadata": {},
     "output_type": "execute_result"
    }
   ],
   "source": [
    "a = np.array(list(\"ABCDEFGHIJKLMNOPQRSTUVWXYZ1234\")).reshape(5,6)\n",
    "a"
   ]
  },
  {
   "cell_type": "code",
   "execution_count": 159,
   "id": "2b6923b5",
   "metadata": {
    "slideshow": {
     "slide_type": "fragment"
    }
   },
   "outputs": [],
   "source": [
    "# print OMG\n"
   ]
  },
  {
   "cell_type": "markdown",
   "id": "aab75aa4",
   "metadata": {
    "slideshow": {
     "slide_type": "slide"
    }
   },
   "source": [
    "<div>\n",
    "<img src=\"imgs/fancy_indexing_lookup.png\" width=\"800\" align='center'/>\n",
    "</div>"
   ]
  },
  {
   "cell_type": "code",
   "execution_count": 160,
   "id": "97ba24e3",
   "metadata": {
    "slideshow": {
     "slide_type": "fragment"
    }
   },
   "outputs": [
    {
     "name": "stdout",
     "output_type": "stream",
     "text": [
      "[[2 2 1]\n",
      " [3 2 3]]\n",
      "\n",
      "[[2 0 0]\n",
      " [4 2 4]]\n",
      "\n",
      "[['O' 'M' 'G']\n",
      " ['W' 'O' 'W']]\n"
     ]
    }
   ],
   "source": [
    "rows = np.array([[2, 2, 1], [3, 2, 3]])\n",
    "cols = np.array([[2, 0, 0], [4, 2, 4]])\n",
    "print(rows)\n",
    "print()\n",
    "print(cols)\n",
    "print()\n",
    "print(a[rows, cols])"
   ]
  },
  {
   "cell_type": "markdown",
   "id": "cbdfe89e",
   "metadata": {
    "slideshow": {
     "slide_type": "slide"
    }
   },
   "source": [
    "### You can also combine fancy indexing with regular indexing or slicing"
   ]
  },
  {
   "cell_type": "code",
   "execution_count": 161,
   "id": "7e4b2f63",
   "metadata": {},
   "outputs": [
    {
     "name": "stdout",
     "output_type": "stream",
     "text": [
      "[['A' 'B' 'C' 'D' 'E' 'F']\n",
      " ['G' 'H' 'I' 'J' 'K' 'L']\n",
      " ['M' 'N' 'O' 'P' 'Q' 'R']\n",
      " ['S' 'T' 'U' 'V' 'W' 'X']\n",
      " ['Y' 'Z' '1' '2' '3' '4']]\n",
      "\n"
     ]
    }
   ],
   "source": [
    "print(a)\n",
    "print()\n",
    "# write CAB (all in first row)\n",
    "\n",
    "# get 1st to 3rd rows, last and first columns \n",
    "\n"
   ]
  },
  {
   "cell_type": "markdown",
   "id": "e68db63a",
   "metadata": {
    "slideshow": {
     "slide_type": "slide"
    }
   },
   "source": [
    "### Fancy indexing also works with boolean arrays\n",
    "\n",
    "In this way you can 'mask' the array, selecting only a subset for which a condition is true."
   ]
  },
  {
   "cell_type": "code",
   "execution_count": 162,
   "id": "813a239e",
   "metadata": {
    "slideshow": {
     "slide_type": "fragment"
    }
   },
   "outputs": [
    {
     "name": "stdout",
     "output_type": "stream",
     "text": [
      "[[ 0  1  2]\n",
      " [ 3  4  5]\n",
      " [ 6  7  8]\n",
      " [ 9 10 11]]\n"
     ]
    }
   ],
   "source": [
    "a = np.arange(12).reshape(4,3)\n",
    "print(a)"
   ]
  },
  {
   "cell_type": "code",
   "execution_count": 163,
   "id": "090ed903",
   "metadata": {
    "slideshow": {
     "slide_type": "fragment"
    }
   },
   "outputs": [],
   "source": [
    "# select elements greater or equal than 5 \n",
    "\n",
    "\n",
    "# type of indexing array\n"
   ]
  },
  {
   "cell_type": "code",
   "execution_count": 164,
   "id": "e707ab58",
   "metadata": {
    "slideshow": {
     "slide_type": "fragment"
    }
   },
   "outputs": [],
   "source": [
    "# print values from a >= 5\n"
   ]
  },
  {
   "cell_type": "markdown",
   "id": "67ad29a5",
   "metadata": {
    "slideshow": {
     "slide_type": "slide"
    }
   },
   "source": [
    "### Alternative: ```where``` argument of universal functions (mean, sum, etc...) \n",
    "\n",
    "They will operate only on the array where the array is ```True```"
   ]
  },
  {
   "cell_type": "code",
   "execution_count": 165,
   "id": "1a5c5c6e",
   "metadata": {
    "slideshow": {
     "slide_type": "fragment"
    }
   },
   "outputs": [],
   "source": [
    "# sum elements with boolean indexing\n"
   ]
  },
  {
   "cell_type": "code",
   "execution_count": 166,
   "id": "dc011086",
   "metadata": {
    "slideshow": {
     "slide_type": "fragment"
    }
   },
   "outputs": [],
   "source": [
    "# sum elements with where argument\n"
   ]
  },
  {
   "cell_type": "markdown",
   "id": "cea68b31",
   "metadata": {
    "slideshow": {
     "slide_type": "slide"
    }
   },
   "source": [
    "# 1.2 Views and Copies: an important distinction!\n",
    "\n",
    "\n",
    "**View**\n",
    "\n",
    "- accessing the array without changing the databuffer \n",
    "- **regular indexing** and **slicing** give views\n",
    "- *in-place* operations can be done in views\n",
    "\n",
    "\n",
    "**Copy**\n",
    "- when a new array is created by duplicating the data buffer as well as the array metadata\n",
    "- **fancy indexing** give always copies\n",
    "- a copy can be forced by method **.copy()**\n",
    "\n",
    "How to know? with ```base```"
   ]
  },
  {
   "cell_type": "code",
   "execution_count": 167,
   "id": "c3150638",
   "metadata": {
    "lines_to_next_cell": 2,
    "slideshow": {
     "slide_type": "slide"
    }
   },
   "outputs": [
    {
     "name": "stdout",
     "output_type": "stream",
     "text": [
      "[1 2 3 4 5]\n"
     ]
    }
   ],
   "source": [
    "a = np.arange(1,6)\n",
    "print(a)\n",
    "\n",
    "# create slice of a and print its base\n",
    "\n"
   ]
  },
  {
   "cell_type": "code",
   "execution_count": 168,
   "id": "61e9ac81",
   "metadata": {
    "slideshow": {
     "slide_type": "fragment"
    }
   },
   "outputs": [],
   "source": [
    "# create a copy of a and print its base\n"
   ]
  },
  {
   "cell_type": "markdown",
   "id": "6446c6a7",
   "metadata": {
    "slideshow": {
     "slide_type": "slide"
    }
   },
   "source": [
    "As a copy is a different array in memory, modifiying it will *not* change the base array"
   ]
  },
  {
   "cell_type": "code",
   "execution_count": 169,
   "id": "728a2740",
   "metadata": {
    "slideshow": {
     "slide_type": "fragment"
    }
   },
   "outputs": [
    {
     "name": "stdout",
     "output_type": "stream",
     "text": [
      "a: [1 2 3 4 5]\n"
     ]
    }
   ],
   "source": [
    "a = np.arange(1, 6)\n",
    "print('a:', a)\n",
    "\n",
    "#  create a copy\n"
   ]
  },
  {
   "cell_type": "code",
   "execution_count": 170,
   "id": "2c44117d",
   "metadata": {
    "slideshow": {
     "slide_type": "fragment"
    }
   },
   "outputs": [],
   "source": [
    "# change an element in the copy, print original array\n"
   ]
  },
  {
   "cell_type": "markdown",
   "id": "adaf1f45",
   "metadata": {
    "slideshow": {
     "slide_type": "fragment"
    }
   },
   "source": [
    "The same operation with a *view*, however, will carry the change "
   ]
  },
  {
   "cell_type": "code",
   "execution_count": 171,
   "id": "5f35b190",
   "metadata": {
    "slideshow": {
     "slide_type": "fragment"
    }
   },
   "outputs": [],
   "source": [
    "# do a view and change an element in the view\n"
   ]
  },
  {
   "cell_type": "markdown",
   "id": "94fc8724",
   "metadata": {
    "slideshow": {
     "slide_type": "fragment"
    }
   },
   "source": [
    "**Take-away**: you **do** need to know if you are using a **view** or a **copy**, particularly when you are operating on the array **in-place**"
   ]
  },
  {
   "cell_type": "markdown",
   "id": "512588d1",
   "metadata": {},
   "source": [
    "### 1.2.1 Strides - why some indexing gives copies and others views?\n",
    "\n",
    "- how does numpy arrange data in memory? - When you create an array, numpy allocates certain memory that depends on the type you choose"
   ]
  },
  {
   "cell_type": "code",
   "execution_count": 172,
   "id": "f94ffd04",
   "metadata": {},
   "outputs": [
    {
     "name": "stdout",
     "output_type": "stream",
     "text": [
      "[[0 1 2]\n",
      " [3 4 5]\n",
      " [6 7 8]]\n"
     ]
    },
    {
     "data": {
      "text/plain": [
       "dtype('int64')"
      ]
     },
     "execution_count": 172,
     "metadata": {},
     "output_type": "execute_result"
    }
   ],
   "source": [
    "a = np.arange(9).reshape(3,3)\n",
    "print(a)\n",
    "a.dtype"
   ]
  },
  {
   "cell_type": "code",
   "execution_count": 173,
   "id": "2f3e051a",
   "metadata": {},
   "outputs": [
    {
     "data": {
      "text/plain": [
       "8"
      ]
     },
     "execution_count": 173,
     "metadata": {},
     "output_type": "execute_result"
    }
   ],
   "source": [
    "a.itemsize"
   ]
  },
  {
   "cell_type": "markdown",
   "id": "b141572c",
   "metadata": {},
   "source": [
    "In this example the array has 8 bytes allocated per item.\n",
    "\n",
    "Memory is *linear*, that means, the 2-D array will look in memory something like this (blue boxes) \n",
    "\n",
    "![memory.png](imgs/memory.png)\n",
    "\n",
    "However, the user 'sees' the array in 2D (green boxes).\n",
    "\n",
    "How does numpy accomplishes this? By defining ```strides```.\n"
   ]
  },
  {
   "cell_type": "code",
   "execution_count": 174,
   "id": "f8dffd3a",
   "metadata": {},
   "outputs": [
    {
     "data": {
      "text/plain": [
       "(24, 8)"
      ]
     },
     "execution_count": 174,
     "metadata": {},
     "output_type": "execute_result"
    }
   ],
   "source": [
    "a.strides"
   ]
  },
  {
   "cell_type": "markdown",
   "id": "10883b65",
   "metadata": {},
   "source": [
    "Strides tell you by how many bytes you should move in memory when moving one step in that dimension.\n",
    "\n",
    "![strides.png](imgs/strides.png)\n",
    "\n",
    "To go from the first item in the first row to the first item in the second row, you need to move (3*8) 24 bytes. To move from the column-wise, you just need to move 8 bytes."
   ]
  },
  {
   "cell_type": "markdown",
   "id": "7be8064c",
   "metadata": {},
   "source": [
    "**Views** are created when you use other strides to read your data. Slicing and regular indexing allows that, as you know how many byte steps you need to take to get the data.\n",
    "\n",
    "**Fancy indexing** does not allow that, because the data you are asking **cannot** be obtained by just changing the strides. Thus, numpy need to make a **copy** of it in memory."
   ]
  },
  {
   "cell_type": "markdown",
   "id": "66a2711b",
   "metadata": {},
   "source": [
    "Now, you can change the strides of an array at will."
   ]
  },
  {
   "cell_type": "code",
   "execution_count": 175,
   "id": "541bb33c",
   "metadata": {},
   "outputs": [
    {
     "data": {
      "text/plain": [
       "array([[0, 3, 6],\n",
       "       [1, 4, 7],\n",
       "       [2, 5, 8]])"
      ]
     },
     "execution_count": 175,
     "metadata": {},
     "output_type": "execute_result"
    }
   ],
   "source": [
    "a.strides=(8,24)\n",
    "a"
   ]
  },
  {
   "cell_type": "markdown",
   "id": "05a3e933",
   "metadata": {},
   "source": [
    " But be careful! Changing the strides to something non-sensical will also **give you non-sense**. And numpy will not complain. "
   ]
  },
  {
   "cell_type": "code",
   "execution_count": 176,
   "id": "8c20fea5",
   "metadata": {},
   "outputs": [],
   "source": [
    "a.strides=(8, 9)"
   ]
  },
  {
   "cell_type": "markdown",
   "id": "511ce80d",
   "metadata": {
    "slideshow": {
     "slide_type": "slide"
    }
   },
   "source": [
    "# 1.3 Sorting\n",
    "\n",
    "Sorting is implemented in numpy by the function ```np.sort```. Default is the *quicksort* algorith, a very efficient one."
   ]
  },
  {
   "cell_type": "code",
   "execution_count": 177,
   "id": "dc546fb1",
   "metadata": {
    "slideshow": {
     "slide_type": "fragment"
    }
   },
   "outputs": [
    {
     "name": "stdout",
     "output_type": "stream",
     "text": [
      "[7 3 4 7 9]\n",
      "[3 4 7 7 9]\n",
      "[3 4 7 7 9]\n"
     ]
    }
   ],
   "source": [
    "a = np.random.randint(1, 10, 5)\n",
    "print(a)\n",
    "\n",
    "s = np.sort(a)\n",
    "print(s)\n",
    "\n",
    "a.sort()\n",
    "print(a)"
   ]
  },
  {
   "cell_type": "markdown",
   "id": "6e3523d9",
   "metadata": {
    "slideshow": {
     "slide_type": "fragment"
    }
   },
   "source": [
    "```np.sort()``` returns a sorted array\n",
    "\n",
    "```.sort()``` makes the sorting *in-place*.\n",
    "\n",
    "if you need to sort descending, simply use ```.flip()``` after sorting. Or something we learned in slicing part?"
   ]
  },
  {
   "cell_type": "code",
   "execution_count": 178,
   "id": "e1c32db2",
   "metadata": {},
   "outputs": [
    {
     "name": "stdout",
     "output_type": "stream",
     "text": [
      "[2 8 5 4 2]\n",
      "[8 5 4 2 2]\n"
     ]
    }
   ],
   "source": [
    "a = np.random.randint(1, 10, 5)\n",
    "print(a)\n",
    "\n",
    "r = np.sort(a)\n",
    "print(np.flip(r))\n"
   ]
  },
  {
   "cell_type": "markdown",
   "id": "f97c4059",
   "metadata": {
    "slideshow": {
     "slide_type": "slide"
    }
   },
   "source": [
    "Similarly to ```sort```, ```argsort``` gives you the *indices* that will sort the array"
   ]
  },
  {
   "cell_type": "code",
   "execution_count": 179,
   "id": "1359ad44",
   "metadata": {
    "slideshow": {
     "slide_type": "fragment"
    }
   },
   "outputs": [
    {
     "name": "stdout",
     "output_type": "stream",
     "text": [
      "a: [0 9 4 7 1]\n",
      "\n",
      "i: [0 4 2 3 1]\n",
      "\n",
      "[0 1 4 7 9]\n"
     ]
    }
   ],
   "source": [
    "a = np.array([0,9,4,7,1])\n",
    "print('a:', a)\n",
    "print()\n",
    "\n",
    "i = np.argsort(a)\n",
    "print('i:', i)\n",
    "print()\n",
    "\n",
    "print(a[i]) # with fancy indexing"
   ]
  },
  {
   "cell_type": "markdown",
   "id": "3d30d242",
   "metadata": {
    "slideshow": {
     "slide_type": "slide"
    }
   },
   "source": [
    "```axis``` argument allows you to sort an array according to one dimension"
   ]
  },
  {
   "cell_type": "code",
   "execution_count": 180,
   "id": "9fb0e9d2",
   "metadata": {
    "slideshow": {
     "slide_type": "fragment"
    }
   },
   "outputs": [
    {
     "data": {
      "text/plain": [
       "array([[13,  7, 10],\n",
       "       [ 5,  8, 13],\n",
       "       [ 7, 14,  8]])"
      ]
     },
     "execution_count": 180,
     "metadata": {},
     "output_type": "execute_result"
    }
   ],
   "source": [
    "a = np.random.randint(1, 15, (3,3))\n",
    "a"
   ]
  },
  {
   "cell_type": "code",
   "execution_count": 181,
   "id": "f7d19696",
   "metadata": {},
   "outputs": [
    {
     "data": {
      "text/plain": [
       "array([[ 7, 10, 13],\n",
       "       [ 5,  8, 13],\n",
       "       [ 7,  8, 14]])"
      ]
     },
     "execution_count": 181,
     "metadata": {},
     "output_type": "execute_result"
    }
   ],
   "source": [
    "np.sort(a)"
   ]
  },
  {
   "cell_type": "code",
   "execution_count": 182,
   "id": "90b354b6",
   "metadata": {
    "slideshow": {
     "slide_type": "fragment"
    }
   },
   "outputs": [
    {
     "data": {
      "text/plain": [
       "array([[ 5,  7,  8],\n",
       "       [ 7,  8, 10],\n",
       "       [13, 14, 13]])"
      ]
     },
     "execution_count": 182,
     "metadata": {},
     "output_type": "execute_result"
    }
   ],
   "source": [
    "np.sort(a, axis=0)"
   ]
  },
  {
   "cell_type": "code",
   "execution_count": 183,
   "id": "3f108a7b",
   "metadata": {
    "slideshow": {
     "slide_type": "fragment"
    }
   },
   "outputs": [
    {
     "data": {
      "text/plain": [
       "array([[ 7, 10, 13],\n",
       "       [ 5,  8, 13],\n",
       "       [ 7,  8, 14]])"
      ]
     },
     "execution_count": 183,
     "metadata": {},
     "output_type": "execute_result"
    }
   ],
   "source": [
    "np.sort(a, axis=1)"
   ]
  },
  {
   "cell_type": "markdown",
   "id": "d560310a",
   "metadata": {
    "slideshow": {
     "slide_type": "fragment"
    }
   },
   "source": [
    "Notice that by sorting this way the rows or columns are treated independently, so their relationship is lost!"
   ]
  },
  {
   "cell_type": "markdown",
   "id": "e7bccdc1",
   "metadata": {
    "slideshow": {
     "slide_type": "slide"
    }
   },
   "source": [
    "# Exercises on indexing, views/copies and sorting\n"
   ]
  },
  {
   "cell_type": "markdown",
   "id": "694ed250",
   "metadata": {
    "slideshow": {
     "slide_type": "slide"
    }
   },
   "source": [
    "### Exercise 1: indexing, dimensionality of the output, view or copy?\n",
    "\n",
    "Look at the following code examples and before running it, try to answer for each case: \\\n",
    "(1) what is the dimensionality of v? \\\n",
    "(2) is v a view or a copy?"
   ]
  },
  {
   "cell_type": "code",
   "execution_count": 184,
   "id": "02319316",
   "metadata": {
    "slideshow": {
     "slide_type": "fragment"
    }
   },
   "outputs": [
    {
     "data": {
      "text/plain": [
       "(5, 5, 5)"
      ]
     },
     "execution_count": 184,
     "metadata": {},
     "output_type": "execute_result"
    }
   ],
   "source": [
    "a = np.ones((5,5,5))\n",
    "a.shape"
   ]
  },
  {
   "cell_type": "code",
   "execution_count": 185,
   "id": "c3336d1e",
   "metadata": {
    "slideshow": {
     "slide_type": "fragment"
    }
   },
   "outputs": [
    {
     "name": "stdout",
     "output_type": "stream",
     "text": [
      "[[1. 1. 1.]\n",
      " [1. 1. 1.]\n",
      " [1. 1. 1.]]\n"
     ]
    },
    {
     "data": {
      "text/plain": [
       "array([[[1., 1., 1., 1., 1.],\n",
       "        [1., 1., 1., 1., 1.],\n",
       "        [1., 1., 1., 1., 1.],\n",
       "        [1., 1., 1., 1., 1.],\n",
       "        [1., 1., 1., 1., 1.]],\n",
       "\n",
       "       [[1., 1., 1., 1., 1.],\n",
       "        [1., 1., 1., 1., 1.],\n",
       "        [1., 1., 1., 1., 1.],\n",
       "        [1., 1., 1., 1., 1.],\n",
       "        [1., 1., 1., 1., 1.]],\n",
       "\n",
       "       [[1., 1., 1., 1., 1.],\n",
       "        [1., 1., 1., 1., 1.],\n",
       "        [1., 1., 1., 1., 1.],\n",
       "        [1., 1., 1., 1., 1.],\n",
       "        [1., 1., 1., 1., 1.]],\n",
       "\n",
       "       [[1., 1., 1., 1., 1.],\n",
       "        [1., 1., 1., 1., 1.],\n",
       "        [1., 1., 1., 1., 1.],\n",
       "        [1., 1., 1., 1., 1.],\n",
       "        [1., 1., 1., 1., 1.]],\n",
       "\n",
       "       [[1., 1., 1., 1., 1.],\n",
       "        [1., 1., 1., 1., 1.],\n",
       "        [1., 1., 1., 1., 1.],\n",
       "        [1., 1., 1., 1., 1.],\n",
       "        [1., 1., 1., 1., 1.]]])"
      ]
     },
     "execution_count": 185,
     "metadata": {},
     "output_type": "execute_result"
    }
   ],
   "source": [
    "# Ex. 1.1\n",
    "v = a[1, ::2, ::2]\n",
    "\n",
    "# answers:\n",
    "# dimensions = 2\n",
    "# copy / view = view\n",
    "\n",
    "print(v)\n",
    "v.base"
   ]
  },
  {
   "cell_type": "code",
   "execution_count": 186,
   "id": "1c8449f8",
   "metadata": {
    "slideshow": {
     "slide_type": "fragment"
    }
   },
   "outputs": [
    {
     "name": "stdout",
     "output_type": "stream",
     "text": [
      "[[1. 1. 1. 1. 1.]\n",
      " [1. 1. 1. 1. 1.]\n",
      " [1. 1. 1. 1. 1.]\n",
      " [1. 1. 1. 1. 1.]\n",
      " [1. 1. 1. 1. 1.]]\n"
     ]
    },
    {
     "data": {
      "text/plain": [
       "array([[[1., 1., 1., 1., 1.],\n",
       "        [1., 1., 1., 1., 1.],\n",
       "        [1., 1., 1., 1., 1.],\n",
       "        [1., 1., 1., 1., 1.],\n",
       "        [1., 1., 1., 1., 1.]],\n",
       "\n",
       "       [[1., 1., 1., 1., 1.],\n",
       "        [1., 1., 1., 1., 1.],\n",
       "        [1., 1., 1., 1., 1.],\n",
       "        [1., 1., 1., 1., 1.],\n",
       "        [1., 1., 1., 1., 1.]],\n",
       "\n",
       "       [[1., 1., 1., 1., 1.],\n",
       "        [1., 1., 1., 1., 1.],\n",
       "        [1., 1., 1., 1., 1.],\n",
       "        [1., 1., 1., 1., 1.],\n",
       "        [1., 1., 1., 1., 1.]],\n",
       "\n",
       "       [[1., 1., 1., 1., 1.],\n",
       "        [1., 1., 1., 1., 1.],\n",
       "        [1., 1., 1., 1., 1.],\n",
       "        [1., 1., 1., 1., 1.],\n",
       "        [1., 1., 1., 1., 1.]],\n",
       "\n",
       "       [[1., 1., 1., 1., 1.],\n",
       "        [1., 1., 1., 1., 1.],\n",
       "        [1., 1., 1., 1., 1.],\n",
       "        [1., 1., 1., 1., 1.],\n",
       "        [1., 1., 1., 1., 1.]]])"
      ]
     },
     "execution_count": 186,
     "metadata": {},
     "output_type": "execute_result"
    }
   ],
   "source": [
    "# Ex. 1.2\n",
    "v = a[2,:]\n",
    "\n",
    "# answers:\n",
    "# dimensions = 2\n",
    "# view / copy = view\n",
    "print(v)\n",
    "v.base"
   ]
  },
  {
   "cell_type": "code",
   "execution_count": 187,
   "id": "b635ea0e",
   "metadata": {
    "slideshow": {
     "slide_type": "fragment"
    }
   },
   "outputs": [
    {
     "name": "stdout",
     "output_type": "stream",
     "text": [
      "[[[1. 1. 1. 1. 1.]\n",
      "  [1. 1. 1. 1. 1.]\n",
      "  [1. 1. 1. 1. 1.]\n",
      "  [1. 1. 1. 1. 1.]\n",
      "  [1. 1. 1. 1. 1.]]\n",
      "\n",
      " [[1. 1. 1. 1. 1.]\n",
      "  [1. 1. 1. 1. 1.]\n",
      "  [1. 1. 1. 1. 1.]\n",
      "  [1. 1. 1. 1. 1.]\n",
      "  [1. 1. 1. 1. 1.]]]\n"
     ]
    }
   ],
   "source": [
    "# Ex. 1.3\n",
    "v = a[[0, 1],:]\n",
    "\n",
    "# answers:\n",
    "# dimensions = 3\n",
    "# view / copy = copy\n",
    "print(v)\n",
    "v.base"
   ]
  },
  {
   "cell_type": "code",
   "execution_count": 189,
   "id": "1371c65a",
   "metadata": {
    "slideshow": {
     "slide_type": "fragment"
    }
   },
   "outputs": [
    {
     "name": "stdout",
     "output_type": "stream",
     "text": [
      "(2, 5)\n",
      "None\n"
     ]
    }
   ],
   "source": [
    "# Ex. 1.4\n",
    "v = a[[2,3], [2,3]]\n",
    "\n",
    "# answers:\n",
    "# dimensions = 2\n",
    "# view / copy = copy\n",
    "print(v.shape)\n",
    "print(v.base)"
   ]
  },
  {
   "cell_type": "markdown",
   "id": "3fa04a21",
   "metadata": {
    "slideshow": {
     "slide_type": "slide"
    }
   },
   "source": [
    "### Exercise 2 - visualize indexing\n",
    "\n",
    "Recreate the following plots using the following procedure. \n",
    "- Make an array containing only zeros. That will be your 'canvas'. \n",
    "- Then change the values of some of the elements to 1. \n",
    "- Then plot using `plt.matshow()`.\n",
    "\n",
    "![Alt text](imgs/patterns.png)"
   ]
  },
  {
   "cell_type": "code",
   "execution_count": 141,
   "id": "3342baf2",
   "metadata": {
    "slideshow": {
     "slide_type": "skip"
    }
   },
   "outputs": [],
   "source": [
    "# Make sure that plots are displayed in the notebook\n",
    "%matplotlib inline\n",
    "from matplotlib import pyplot as plt # plotting library"
   ]
  },
  {
   "cell_type": "code",
   "execution_count": 142,
   "id": "3337eeca",
   "metadata": {
    "slideshow": {
     "slide_type": "fragment"
    }
   },
   "outputs": [
    {
     "data": {
      "text/plain": [
       "<matplotlib.image.AxesImage at 0x7f1e30038e50>"
      ]
     },
     "execution_count": 142,
     "metadata": {},
     "output_type": "execute_result"
    },
    {
     "data": {
      "image/png": "[encoded data removed]",
      "text/plain": [
       "<Figure size 480x480 with 1 Axes>"
      ]
     },
     "metadata": {},
     "output_type": "display_data"
    }
   ],
   "source": [
    "# let's get you started\n",
    "e1 = np.zeros((11,11))\n",
    "plt.matshow(e1) #plotting the canvas"
   ]
  },
  {
   "cell_type": "code",
   "execution_count": 143,
   "id": "2173d83b",
   "metadata": {
    "slideshow": {
     "slide_type": "fragment"
    }
   },
   "outputs": [
    {
     "data": {
      "text/plain": [
       "<matplotlib.image.AxesImage at 0x7f1e300ed910>"
      ]
     },
     "execution_count": 143,
     "metadata": {},
     "output_type": "execute_result"
    },
    {
     "data": {
      "image/png": "[encoded data removed]",
      "text/plain": [
       "<Figure size 480x480 with 1 Axes>"
      ]
     },
     "metadata": {},
     "output_type": "display_data"
    }
   ],
   "source": [
    "# solution cell\n",
    "e2 = np.zeros((11,11))\n",
    "e2[1, ::2] = 1\n",
    "plt.matshow(e2)"
   ]
  },
  {
   "cell_type": "code",
   "execution_count": 144,
   "id": "9f3209bb",
   "metadata": {
    "slideshow": {
     "slide_type": "fragment"
    }
   },
   "outputs": [
    {
     "data": {
      "text/plain": [
       "<matplotlib.image.AxesImage at 0x7f1e30112610>"
      ]
     },
     "execution_count": 144,
     "metadata": {},
     "output_type": "execute_result"
    },
    {
     "data": {
      "image/png": "[encoded data removed]",
      "text/plain": [
       "<Figure size 480x480 with 1 Axes>"
      ]
     },
     "metadata": {},
     "output_type": "display_data"
    }
   ],
   "source": [
    "# solution cell\n",
    "e3 = np.zeros((11,11))\n",
    "e3[:, ::2] = 1\n",
    "plt.matshow(e3)"
   ]
  },
  {
   "cell_type": "code",
   "execution_count": 145,
   "id": "95332a5f",
   "metadata": {
    "slideshow": {
     "slide_type": "fragment"
    }
   },
   "outputs": [
    {
     "data": {
      "text/plain": [
       "<matplotlib.image.AxesImage at 0x7f1e02f49810>"
      ]
     },
     "execution_count": 145,
     "metadata": {},
     "output_type": "execute_result"
    },
    {
     "data": {
      "image/png": "[encoded data removed]",
      "text/plain": [
       "<Figure size 480x480 with 1 Axes>"
      ]
     },
     "metadata": {},
     "output_type": "display_data"
    }
   ],
   "source": [
    "# solution cell\n",
    "e3 = np.zeros((11,11))\n",
    "e3[::2, ::2] = 1\n",
    "plt.matshow(e3)"
   ]
  },
  {
   "cell_type": "code",
   "execution_count": 146,
   "id": "87763469",
   "metadata": {},
   "outputs": [
    {
     "data": {
      "text/plain": [
       "<matplotlib.image.AxesImage at 0x7f1e02e02e50>"
      ]
     },
     "execution_count": 146,
     "metadata": {},
     "output_type": "execute_result"
    },
    {
     "data": {
      "image/png": "[encoded data removed]",
      "text/plain": [
       "<Figure size 480x480 with 1 Axes>"
      ]
     },
     "metadata": {},
     "output_type": "display_data"
    }
   ],
   "source": [
    "# solution cell\n",
    "e4 = np.zeros((11,11))\n",
    "e4 = e4.reshape((e4.size,))\n",
    "e4[::2] = 1\n",
    "e4 = e4.reshape((11,11))\n",
    "plt.matshow(e4)"
   ]
  },
  {
   "cell_type": "code",
   "execution_count": 147,
   "id": "4c979346",
   "metadata": {
    "slideshow": {
     "slide_type": "fragment"
    }
   },
   "outputs": [
    {
     "data": {
      "text/plain": [
       "<matplotlib.image.AxesImage at 0x7f1e02e735d0>"
      ]
     },
     "execution_count": 147,
     "metadata": {},
     "output_type": "execute_result"
    },
    {
     "data": {
      "image/png": "[encoded data removed]",
      "text/plain": [
       "<Figure size 480x480 with 1 Axes>"
      ]
     },
     "metadata": {},
     "output_type": "display_data"
    }
   ],
   "source": [
    "# solution cell\n",
    "e5 = np.zeros((11,11))\n",
    "e5[np.arange(11), np.arange(11)] = 1\n",
    "plt.matshow(e5)"
   ]
  },
  {
   "cell_type": "markdown",
   "id": "7b7ffd90",
   "metadata": {
    "slideshow": {
     "slide_type": "slide"
    }
   },
   "source": [
    "### Exercise 3: sorting on a view or on a copy?\n",
    "\n",
    "You start with the following 3x3 matrix ```m```"
   ]
  },
  {
   "cell_type": "code",
   "execution_count": 148,
   "id": "0826cc05",
   "metadata": {
    "slideshow": {
     "slide_type": "fragment"
    }
   },
   "outputs": [
    {
     "data": {
      "text/plain": [
       "array([[6, 2, 3],\n",
       "       [1, 7, 2],\n",
       "       [7, 6, 5]])"
      ]
     },
     "execution_count": 148,
     "metadata": {},
     "output_type": "execute_result"
    }
   ],
   "source": [
    "m = np.array([[6,2,3], [1,7,2], [7,6,5]])\n",
    "m "
   ]
  },
  {
   "cell_type": "markdown",
   "id": "41ba9574",
   "metadata": {
    "slideshow": {
     "slide_type": "fragment"
    }
   },
   "source": [
    "3.1. Sort only the last row, ascending. Do this *in-place*."
   ]
  },
  {
   "cell_type": "code",
   "execution_count": 152,
   "id": "9072d7b7",
   "metadata": {
    "slideshow": {
     "slide_type": "fragment"
    }
   },
   "outputs": [
    {
     "name": "stdout",
     "output_type": "stream",
     "text": [
      "[[6 2 3]\n",
      " [1 7 2]\n",
      " [5 6 7]]\n"
     ]
    }
   ],
   "source": [
    "m[-1,:] = np.sort(m[-1,:])\n",
    "print(m)\n",
    "m.base"
   ]
  },
  {
   "cell_type": "markdown",
   "id": "29d52189",
   "metadata": {
    "slideshow": {
     "slide_type": "slide"
    }
   },
   "source": [
    "Now sort the first and second columns (ascending). Try two ways:\n",
    "- using fancy indexing\n",
    "- *in place*, using regular indices or slicing\n",
    "\n",
    "is there a difference? why?"
   ]
  },
  {
   "cell_type": "code",
   "execution_count": null,
   "id": "8c4670da",
   "metadata": {
    "slideshow": {
     "slide_type": "fragment"
    }
   },
   "outputs": [],
   "source": []
  },
  {
   "cell_type": "code",
   "execution_count": null,
   "id": "e6e05638",
   "metadata": {
    "slideshow": {
     "slide_type": "fragment"
    }
   },
   "outputs": [],
   "source": []
  },
  {
   "cell_type": "markdown",
   "id": "d2727cb3",
   "metadata": {
    "slideshow": {
     "slide_type": "slide"
    }
   },
   "source": [
    "### (Optional) Exercise 4: create a circular mask \n",
    "\n",
    "Create a 100\\*100 grid and create a circular mask centered in the middle, that is, a boolean array with values```True``` only in the middle of a circle of radius ```r=20```. \n",
    "\n",
    "In an x–y Cartesian coordinate system, the circle with centre coordinates (a, b) and radius r is the set of all points (x, y) such that $(x-a)^2 + (y-b)^2 = r^2$"
   ]
  },
  {
   "cell_type": "code",
   "execution_count": 38,
   "id": "69f15eca",
   "metadata": {
    "slideshow": {
     "slide_type": "fragment"
    }
   },
   "outputs": [],
   "source": [
    "# solution cell\n"
   ]
  },
  {
   "cell_type": "markdown",
   "id": "08b9c593",
   "metadata": {
    "slideshow": {
     "slide_type": "slide"
    }
   },
   "source": [
    "# Sources + other resources\n",
    "\n",
    "\n",
    "ASPP Bilbao 2022 - Lisa Schwetlick & Aina Frau-Pascual\n",
    "https://github.com/ASPP/2022-bilbao-advanced-numpy\n",
    "\n",
    "\n",
    "Scipy lecture notes, 2022.1\n",
    "- Basic Numpy: http://scipy-lectures.org/intro/numpy/index.html\n",
    "- Advanced Numpy: http://scipy-lectures.org/advanced/advanced_numpy/index.html\n",
    "\n",
    "Numpy chapter in \"Python Data Science Handbook\"\n",
    "https://jakevdp.github.io/PythonDataScienceHandbook/02.00-introduction-to-numpy.html\n",
    "\n",
    "\n",
    "\n",
    "Further resources on strides: \n",
    "- https://scipy-lectures.org/advanced/advanced_numpy/#indexing-scheme-strides\n",
    "- https://ajcr.net/stride-guide-part-1/\n"
   ]
  }
 ],
 "metadata": {
  "celltoolbar": "Slideshow",
  "jupytext": {
   "formats": "ipynb"
  },
  "kernelspec": {
   "display_name": "Python 3 (ipykernel)",
   "language": "python",
   "name": "python3"
  },
  "language_info": {
   "codemirror_mode": {
    "name": "ipython",
    "version": 3
   },
   "file_extension": ".py",
   "mimetype": "text/x-python",
   "name": "python",
   "nbconvert_exporter": "python",
   "pygments_lexer": "ipython3",
   "version": "3.11.4"
  },
  "rise": {
   "scroll": true
  }
 },
 "nbformat": 4,
 "nbformat_minor": 5
}
